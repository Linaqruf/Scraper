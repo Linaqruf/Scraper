{
  "nbformat": 4,
  "nbformat_minor": 0,
  "metadata": {
    "colab": {
      "provenance": [],
      "authorship_tag": "ABX9TyOREcZtegfZS7vmskmVmXDo",
      "include_colab_link": true
    },
    "kernelspec": {
      "name": "python3",
      "display_name": "Python 3"
    },
    "language_info": {
      "name": "python"
    }
  },
  "cells": [
    {
      "cell_type": "markdown",
      "metadata": {
        "id": "view-in-github",
        "colab_type": "text"
      },
      "source": [
        "<a href=\"https://colab.research.google.com/github/Linaqruf/Scraper/blob/main/Bandori_Wiki_Scraper.ipynb\" target=\"_parent\"><img src=\"https://colab.research.google.com/assets/colab-badge.svg\" alt=\"Open In Colab\"/></a>"
      ]
    },
    {
      "cell_type": "code",
      "source": [
        "import requests\n",
        "import os\n",
        "import threading\n",
        "import json\n",
        "import traceback\n",
        "from bs4 import BeautifulSoup\n",
        "\n",
        "def get_rarity(rarity_url):\n",
        "    if 'Rarity1.png' in rarity_url:\n",
        "        return 1\n",
        "    elif 'Rarity2.png' in rarity_url:\n",
        "        return 2\n",
        "    elif 'Rarity3.png' in rarity_url:\n",
        "        return 3\n",
        "    elif 'Rarity4.png' in rarity_url:\n",
        "        return 4\n",
        "    elif 'Rarity5.png' in rarity_url:\n",
        "        return 5\n",
        "    else:\n",
        "        return 0\n",
        "\n",
        "def download(directory, url):\n",
        "    if not os.path.exists(directory + url.split('/')[-1]):\n",
        "        with open(directory + url.split('/')[-1], 'wb') as f:\n",
        "            f.write(requests.get(url).content)\n",
        "    else:\n",
        "        return 0\n",
        "\n",
        "def clean_art_url(art_url):\n",
        "    return art_url.split(\"/revision/latest\")[0]\n",
        "\n",
        "base_url = 'https://bandori.fandom.com/wiki/Cards_'\n",
        "\n",
        "max_index = 1800\n",
        "step = 100\n",
        "urls = []\n",
        "\n",
        "for i in range(1, max_index, step):\n",
        "    start_range = i\n",
        "    end_range = min(i + step - 1, max_index)\n",
        "    url = f\"{base_url}{start_range}-{end_range}\"\n",
        "    urls.append(url)\n",
        "\n",
        "for url_index, url in enumerate(urls):\n",
        "    print(f\"Processing URL {url_index + 1}/{len(urls)}: {url}\")\n",
        "    response = requests.get(url)\n",
        "    soup = BeautifulSoup(response.content, 'html.parser')\n",
        "\n",
        "    table = soup.find('table', {'style': 'border:1px solid #AAA; border-collapse: collapse;'})\n",
        "    cards = []\n",
        "\n",
        "    for row in table.find_all('tr')[1:]:\n",
        "        card_no = row.find('th').text.strip()\n",
        "        id = int(card_no.split(' ')[-1])\n",
        "        if id > 1719:\n",
        "            break\n",
        "\n",
        "        rarity = row.find('td', {'width': None})\n",
        "        rarity_url = None\n",
        "        if rarity and rarity.find('img'):\n",
        "            rarity_url = rarity.find('img').get('data-src') or rarity.find('img').get('src')\n",
        "        name = row.find('a')['title'] if row.find('a') else None\n",
        "        art = row.find('td', {'width': '50%'})\n",
        "        art_url = None\n",
        "        if art and art.find('img'):\n",
        "            art_url = art.find('img').get('data-src') or art.find('img').get('src')\n",
        "            art_url = clean_art_url(art_url)\n",
        "        else:\n",
        "            continue\n",
        "\n",
        "        if rarity_url is None:\n",
        "            continue\n",
        "\n",
        "        card_data = {\n",
        "            'id': id,\n",
        "            'rarity': get_rarity(rarity_url),\n",
        "            'name': name,\n",
        "            'art_url': art_url\n",
        "        }\n",
        "        cards.append(card_data)\n",
        "\n",
        "    for card in cards:\n",
        "        rarity_folder = f'bandori/art_url/rarity{card[\"rarity\"]}/'\n",
        "        os.makedirs(rarity_folder, exist_ok=True)\n",
        "        threading.Thread(target=download, args=(rarity_folder, card['art_url'])).start()\n",
        "\n",
        "        metadata_folder = f'bandori/metadata/rarity{card[\"rarity\"]}.json'\n",
        "        os.makedirs('bandori/metadata/', exist_ok=True)\n",
        "        if not os.path.exists(metadata_folder):\n",
        "            with open(metadata_folder, 'w', encoding='utf-8') as f:\n",
        "                json.dump([], f, indent=4, ensure_ascii=False)\n",
        "\n",
        "        with open(metadata_folder, 'r+', encoding='utf-8') as f:\n",
        "            metadata = json.load(f)\n",
        "            metadata.append(card)\n",
        "            f.seek(0)\n",
        "            json.dump(metadata, f, indent=4, ensure_ascii=False)\n",
        "            f.truncate()\n"
      ],
      "metadata": {
        "id": "v0akT03xF_W4",
        "colab": {
          "base_uri": "https://localhost:8080/"
        },
        "outputId": "01cdfae1-d1e4-4c0d-86e1-e82a9d02fe37"
      },
      "execution_count": null,
      "outputs": [
        {
          "output_type": "stream",
          "name": "stdout",
          "text": [
            "Processing URL 1/18: https://bandori.fandom.com/wiki/Cards_1-100\n",
            "Processing URL 2/18: https://bandori.fandom.com/wiki/Cards_101-200\n",
            "Processing URL 3/18: https://bandori.fandom.com/wiki/Cards_201-300\n",
            "Processing URL 4/18: https://bandori.fandom.com/wiki/Cards_301-400\n",
            "Processing URL 5/18: https://bandori.fandom.com/wiki/Cards_401-500\n",
            "Processing URL 6/18: https://bandori.fandom.com/wiki/Cards_501-600\n",
            "Processing URL 7/18: https://bandori.fandom.com/wiki/Cards_601-700\n",
            "Processing URL 8/18: https://bandori.fandom.com/wiki/Cards_701-800\n",
            "Processing URL 9/18: https://bandori.fandom.com/wiki/Cards_801-900\n",
            "Processing URL 10/18: https://bandori.fandom.com/wiki/Cards_901-1000\n",
            "Processing URL 11/18: https://bandori.fandom.com/wiki/Cards_1001-1100\n",
            "Processing URL 12/18: https://bandori.fandom.com/wiki/Cards_1101-1200\n",
            "Processing URL 13/18: https://bandori.fandom.com/wiki/Cards_1201-1300\n",
            "Processing URL 14/18: https://bandori.fandom.com/wiki/Cards_1301-1400\n",
            "Processing URL 15/18: https://bandori.fandom.com/wiki/Cards_1401-1500\n",
            "Processing URL 16/18: https://bandori.fandom.com/wiki/Cards_1501-1600\n",
            "Processing URL 17/18: https://bandori.fandom.com/wiki/Cards_1601-1700\n",
            "Processing URL 18/18: https://bandori.fandom.com/wiki/Cards_1701-1800\n"
          ]
        }
      ]
    }
  ]
}