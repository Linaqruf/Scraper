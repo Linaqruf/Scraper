{
  "nbformat": 4,
  "nbformat_minor": 0,
  "metadata": {
    "colab": {
      "provenance": [],
      "include_colab_link": true
    },
    "kernelspec": {
      "name": "python3",
      "display_name": "Python 3"
    },
    "language_info": {
      "name": "python"
    }
  },
  "cells": [
    {
      "cell_type": "markdown",
      "metadata": {
        "id": "view-in-github",
        "colab_type": "text"
      },
      "source": [
        "<a href=\"https://colab.research.google.com/github/Linaqruf/Scraper/blob/main/Proseka_Wiki_Scraper.ipynb\" target=\"_parent\"><img src=\"https://colab.research.google.com/assets/colab-badge.svg\" alt=\"Open In Colab\"/></a>"
      ]
    },
    {
      "cell_type": "code",
      "source": [
        "import requests\n",
        "import re\n",
        "import json\n",
        "import os\n",
        "import threading\n",
        "from bs4 import BeautifulSoup\n",
        "from pprint import pprint\n",
        "\n",
        "base_url = 'https://projectsekai.fandom.com/wiki/Cards_'\n",
        "step = 50\n",
        "urls = []\n",
        "\n",
        "for i in range(1, 650, step):\n",
        "    start_range = i\n",
        "    end_range = min(i + step - 1, 650)\n",
        "    url = f\"{base_url}{start_range}-{end_range}\"\n",
        "    urls.append(url)\n",
        "\n",
        "def download(directory, url):\n",
        "    if not os.path.exists(directory + url.split('/')[-1]):\n",
        "        with open(directory + url.split('/')[-1], 'wb') as f:\n",
        "            f.write(requests.get(url).content)\n",
        "    else:\n",
        "        return 0\n",
        "\n",
        "def get_rarity(img_url):\n",
        "    if 'Ribbon' in img_url:\n",
        "        return 'ribbon'\n",
        "    elif 'Star_4_trained' in img_url:\n",
        "        return '4'\n",
        "    elif 'Star_3_trained' in img_url:\n",
        "        return '3'\n",
        "    elif 'Star_2_untrained' in img_url:\n",
        "        return '2'\n",
        "    elif 'Star_untrained' in img_url:\n",
        "        return '1'\n",
        "    else:\n",
        "        return ''\n",
        "\n",
        "final = {}\n",
        "\n",
        "for url_index, url in enumerate(urls):\n",
        "    print(f\"Processing URL {url_index + 1}/{len(urls)}: {url}\")\n",
        "    for i in BeautifulSoup(requests.get(url).content, 'lxml').find('table').findAll('tr')[1:]:\n",
        "        td_elements = i.findAll('td')\n",
        "        data = []\n",
        "        for j in td_elements:\n",
        "            if '<br/>' in str(j):\n",
        "                names = []\n",
        "                for link in j.findAll(\"a\"):\n",
        "                    names.append(link.text.strip())\n",
        "                data.append(\": \".join(names))\n",
        "            else:\n",
        "                data.append(j.text.strip())\n",
        "        rarity = get_rarity(re.findall(r'src=\"(https:\\/\\/.*?)\"', str(td_elements[0].find('img')))[0])\n",
        "        id = int(data[1])\n",
        "        name = data[2]\n",
        "        untrained_url = None\n",
        "        trained_url = None\n",
        "        if td_elements[3].find('img'):\n",
        "            untrained_url = '/'.join(re.findall(r'src=\"(https:\\/\\/.*?)\"', str(td_elements[3].find('img')))[0].split('/')[:8])\n",
        "        if td_elements[4].find('img'):\n",
        "            trained_url = '/'.join(re.findall(r'src=\"(https:\\/\\/.*?)\"', str(td_elements[4].find('img')))[0].split('/')[:8])\n",
        "        card = {\"rarity\": rarity, \"id\": id, \"name\": name, \"untrained_url\": untrained_url, \"trained_url\": trained_url}\n",
        "\n",
        "        if rarity in final:\n",
        "            final[rarity].append(card)\n",
        "        else:\n",
        "            final[rarity] = [card]\n",
        "\n",
        "        for card in final[rarity]:\n",
        "            rarity_folder = f\"proseka/images/untrained_card/rarity-{card['rarity']}\"\n",
        "            os.makedirs(rarity_folder, exist_ok=True)\n",
        "            if card['untrained_url']:\n",
        "                threading.Thread(target=download, args=(rarity_folder + '/', card['untrained_url'])).start()\n",
        "\n",
        "            rarity_folder = f\"proseka/images/trained_card/rarity-{card['rarity']}\"\n",
        "            os.makedirs(rarity_folder, exist_ok=True)\n",
        "            if card['trained_url']:\n",
        "                threading.Thread(target=download, args=(rarity_folder + '/', card['trained_url'])).start()\n",
        "\n",
        "metadata_folder = f\"proseka/metadata\"\n",
        "os.makedirs(metadata_folder, exist_ok=True)\n",
        "\n",
        "for rarity, cards in final.items():\n",
        "    with open(f'{metadata_folder}/rarity-{rarity}.json', 'w', encoding='utf-8') as f:\n",
        "        json.dump(cards, f, indent=4, ensure_ascii=False)\n",
        "\n"
      ],
      "metadata": {
        "id": "u9ziNRzQI4nb",
        "outputId": "7206af32-0645-47f8-b241-d5863913be16",
        "colab": {
          "base_uri": "https://localhost:8080/"
        }
      },
      "execution_count": 18,
      "outputs": [
        {
          "output_type": "stream",
          "name": "stdout",
          "text": [
            "Processing URL 1/13: https://projectsekai.fandom.com/wiki/Cards_1-50\n",
            "Processing URL 2/13: https://projectsekai.fandom.com/wiki/Cards_51-100\n",
            "Processing URL 3/13: https://projectsekai.fandom.com/wiki/Cards_101-150\n",
            "Processing URL 4/13: https://projectsekai.fandom.com/wiki/Cards_151-200\n",
            "Processing URL 5/13: https://projectsekai.fandom.com/wiki/Cards_201-250\n",
            "Processing URL 6/13: https://projectsekai.fandom.com/wiki/Cards_251-300\n",
            "Processing URL 7/13: https://projectsekai.fandom.com/wiki/Cards_301-350\n",
            "Processing URL 8/13: https://projectsekai.fandom.com/wiki/Cards_351-400\n",
            "Processing URL 9/13: https://projectsekai.fandom.com/wiki/Cards_401-450\n",
            "Processing URL 10/13: https://projectsekai.fandom.com/wiki/Cards_451-500\n",
            "Processing URL 11/13: https://projectsekai.fandom.com/wiki/Cards_501-550\n",
            "Processing URL 12/13: https://projectsekai.fandom.com/wiki/Cards_551-600\n",
            "Processing URL 13/13: https://projectsekai.fandom.com/wiki/Cards_601-650\n"
          ]
        }
      ]
    }
  ]
}