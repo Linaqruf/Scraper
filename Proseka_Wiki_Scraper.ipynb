{
  "nbformat": 4,
  "nbformat_minor": 0,
  "metadata": {
    "colab": {
      "provenance": [],
      "authorship_tag": "ABX9TyNHNB3GiZjoF6ffOumqWHYC",
      "include_colab_link": true
    },
    "kernelspec": {
      "name": "python3",
      "display_name": "Python 3"
    },
    "language_info": {
      "name": "python"
    }
  },
  "cells": [
    {
      "cell_type": "markdown",
      "metadata": {
        "id": "view-in-github",
        "colab_type": "text"
      },
      "source": [
        "<a href=\"https://colab.research.google.com/github/Linaqruf/Scraper/blob/main/Proseka_Wiki_Scraper.ipynb\" target=\"_parent\"><img src=\"https://colab.research.google.com/assets/colab-badge.svg\" alt=\"Open In Colab\"/></a>"
      ]
    },
    {
      "cell_type": "code",
      "source": [
        "import requests\n",
        "import re\n",
        "import json\n",
        "import os\n",
        "import threading\n",
        "from bs4 import BeautifulSoup\n",
        "from pprint import pprint\n",
        "\n",
        "def download(directory, url):\n",
        "    if not os.path.exists(directory + url.split('/')[-1]):\n",
        "        with open(directory + url.split('/')[-1], 'wb') as f:\n",
        "            f.write(requests.get(url).content)\n",
        "    else:\n",
        "        return 0\n",
        "\n",
        "def get_rarity(img_url):\n",
        "    if 'Ribbon' in img_url:\n",
        "        return '🎀'\n",
        "    elif 'Star_4_trained' in img_url:\n",
        "        return '⭐⭐⭐⭐'\n",
        "    elif 'Star_3_trained' in img_url:\n",
        "        return '⭐⭐⭐'\n",
        "    elif 'Star_2_untrained' in img_url:\n",
        "        return '⭐⭐'\n",
        "    elif 'Star_untrained' in img_url:\n",
        "        return '⭐'\n",
        "    else:\n",
        "        return ''\n",
        "\n",
        "urls = [\n",
        "    \"https://projectsekai.fandom.com/wiki/Cards_1-50\", \\\n",
        "    \"https://projectsekai.fandom.com/wiki/Cards_51-100\", \\\n",
        "    \"https://projectsekai.fandom.com/wiki/Cards_101-150\", \\\n",
        "    \"https://projectsekai.fandom.com/wiki/Cards_201-250\", \\\n",
        "    \"https://projectsekai.fandom.com/wiki/Cards_251-300\", \\\n",
        "    \"https://projectsekai.fandom.com/wiki/Cards_301-350\", \\\n",
        "    \"https://projectsekai.fandom.com/wiki/Cards_351-400\", \\\n",
        "    \"https://projectsekai.fandom.com/wiki/Cards_401-450\", \\\n",
        "    \"https://projectsekai.fandom.com/wiki/Cards_451-500\", \\\n",
        "    \"https://projectsekai.fandom.com/wiki/Cards_501-550\", \\\n",
        "    \"https://projectsekai.fandom.com/wiki/Cards_551-600\"\n",
        "]\n",
        "\n",
        "for url in urls:\n",
        "  final = []\n",
        "  basename = os.path.basename(url) \n",
        "  for i in BeautifulSoup(requests.get(url).content, 'lxml').find('table').findAll('tr')[1:]:\n",
        "      td_elements = i.findAll('td')\n",
        "      data = []\n",
        "      for j in td_elements:\n",
        "          if '<br/>' in str(j):\n",
        "              names = []\n",
        "              for link in j.findAll(\"a\"):\n",
        "                  names.append(link.text.strip())\n",
        "              data.append(\": \".join(names))\n",
        "          else:\n",
        "              data.append(j.text.strip())\n",
        "      rarity = get_rarity(re.findall(r'src=\"(https:\\/\\/.*?)\"', str(td_elements[0].find('img')))[0])\n",
        "      id = int(data[1])\n",
        "      name = data[2]\n",
        "      untrained_url = None\n",
        "      trained_url = None\n",
        "      if td_elements[3].find('img'):\n",
        "        untrained_url = '/'.join(re.findall(r'src=\"(https:\\/\\/.*?)\"', str(td_elements[3].find('img')))[0].split('/')[:8])\n",
        "      if td_elements[4].find('img'):\n",
        "        trained_url = '/'.join(re.findall(r'src=\"(https:\\/\\/.*?)\"', str(td_elements[4].find('img')))[0].split('/')[:8])\n",
        "      final.append({\"rarity\": rarity, \"id\": id, \"name\": name, \"untrained_url\": untrained_url, \"trained_url\": trained_url})\n",
        "\n",
        "  os.makedirs(f'proseka/untrained_url/{basename}', exist_ok=True)\n",
        "  os.makedirs(f'proseka/trained_url/{basename}', exist_ok=True)\n",
        "  os.makedirs(f'proseka/metadata', exist_ok=True)\n",
        "\n",
        "  for i in (i['untrained_url'] for i in final):\n",
        "      threading.Thread(target=download, args=(f'proseka/untrained_url/{basename}/', i)).start()\n",
        "\n",
        "  for i in (i['trained_url'] for i in final if i['trained_url']):\n",
        "      threading.Thread(target=download, args=(f'proseka/trained_url/{basename}/', i)).start()\n",
        "      \n",
        "  with open(f'proseka/metadata/{basename}.json', 'w', encoding='utf-8') as f:\n",
        "      json.dump(final, f, indent=4, ensure_ascii=False)\n"
      ],
      "metadata": {
        "id": "u9ziNRzQI4nb"
      },
      "execution_count": null,
      "outputs": []
    }
  ]
}